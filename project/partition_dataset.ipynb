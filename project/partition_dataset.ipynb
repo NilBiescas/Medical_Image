{
 "cells": [
  {
   "cell_type": "code",
   "execution_count": 1,
   "metadata": {},
   "outputs": [
    {
     "data": {
      "text/html": [
       "<div>\n",
       "<style scoped>\n",
       "    .dataframe tbody tr th:only-of-type {\n",
       "        vertical-align: middle;\n",
       "    }\n",
       "\n",
       "    .dataframe tbody tr th {\n",
       "        vertical-align: top;\n",
       "    }\n",
       "\n",
       "    .dataframe thead th {\n",
       "        text-align: right;\n",
       "    }\n",
       "</style>\n",
       "<table border=\"1\" class=\"dataframe\">\n",
       "  <thead>\n",
       "    <tr style=\"text-align: right;\">\n",
       "      <th></th>\n",
       "      <th>CODI</th>\n",
       "      <th>DENSITAT</th>\n",
       "    </tr>\n",
       "  </thead>\n",
       "  <tbody>\n",
       "    <tr>\n",
       "      <th>0</th>\n",
       "      <td>B22-01</td>\n",
       "      <td>BAIXA</td>\n",
       "    </tr>\n",
       "    <tr>\n",
       "      <th>1</th>\n",
       "      <td>B22-02</td>\n",
       "      <td>BAIXA</td>\n",
       "    </tr>\n",
       "    <tr>\n",
       "      <th>2</th>\n",
       "      <td>B22-03</td>\n",
       "      <td>NEGATIVA</td>\n",
       "    </tr>\n",
       "    <tr>\n",
       "      <th>3</th>\n",
       "      <td>B22-04</td>\n",
       "      <td>NEGATIVA</td>\n",
       "    </tr>\n",
       "    <tr>\n",
       "      <th>4</th>\n",
       "      <td>B22-05</td>\n",
       "      <td>NEGATIVA</td>\n",
       "    </tr>\n",
       "  </tbody>\n",
       "</table>\n",
       "</div>"
      ],
      "text/plain": [
       "     CODI  DENSITAT\n",
       "0  B22-01     BAIXA\n",
       "1  B22-02     BAIXA\n",
       "2  B22-03  NEGATIVA\n",
       "3  B22-04  NEGATIVA\n",
       "4  B22-05  NEGATIVA"
      ]
     },
     "execution_count": 1,
     "metadata": {},
     "output_type": "execute_result"
    }
   ],
   "source": [
    "import pandas as pd\n",
    "\n",
    "# Read the dataset\n",
    "df = pd.read_csv('/fhome/mapsiv/QuironHelico/CroppedPatches/metadata.csv')\n",
    "df.head()"
   ]
  },
  {
   "cell_type": "code",
   "execution_count": 2,
   "metadata": {},
   "outputs": [],
   "source": [
    "# Splits for all the models\n",
    "from sklearn.model_selection import train_test_split\n",
    "\n",
    "# Split the patients dataset into train and test sets with a 80-20 ratio.\n",
    "# Stratify the split according to the label, so that the train and test sets have approximately \n",
    "# the same percentage of samples of each target class as the complete set.\n",
    "X_train, X_test, y_train, y_test = train_test_split(df['CODI'], df['DENSITAT'], test_size=0.2, random_state=42, stratify=df['DENSITAT'])"
   ]
  },
  {
   "cell_type": "code",
   "execution_count": 3,
   "metadata": {},
   "outputs": [],
   "source": [
    "# Splits to train the Autoencoder\n",
    "\n",
    "# Get all negative samples from the training set to train the Autoencoder\n",
    "neg_samples = X_train[y_train == \"NEGATIVA\"]\n",
    "\n",
    "# Split the negative samples into train and validation sets with a 90-10 ratio.\n",
    "# That it are a 72% and 8% ratio on the whole dataset.\n",
    "neg_samples_train, neg_samples_val = train_test_split(neg_samples, test_size=0.1, random_state=42)\n",
    "neg_samples_dict = {\"train\": neg_samples_train.values, \"val\": neg_samples_val.values}"
   ]
  },
  {
   "cell_type": "code",
   "execution_count": 19,
   "metadata": {},
   "outputs": [],
   "source": [
    "import pickle\n",
    "# Save the splits\n",
    "with open('/fhome/gia07/project/Train_test_splits/neg_samples.pkl', 'wb') as f:\n",
    "    pickle.dump(neg_samples_dict, f)\n",
    "\n",
    "with open('/fhome/gia07/project/Train_test_splits/train_data.pkl', 'wb') as f:\n",
    "    pickle.dump((X_train.values, y_train.values), f)\n",
    "\n",
    "with open('/fhome/gia07/project/Train_test_splits/test_data.pkl', 'wb') as f:\n",
    "    pickle.dump((X_test.values, y_test.values), f)"
   ]
  }
 ],
 "metadata": {
  "kernelspec": {
   "display_name": "medImg",
   "language": "python",
   "name": "python3"
  },
  "language_info": {
   "codemirror_mode": {
    "name": "ipython",
    "version": 3
   },
   "file_extension": ".py",
   "mimetype": "text/x-python",
   "name": "python",
   "nbconvert_exporter": "python",
   "pygments_lexer": "ipython3",
   "version": "3.11.5"
  }
 },
 "nbformat": 4,
 "nbformat_minor": 2
}
